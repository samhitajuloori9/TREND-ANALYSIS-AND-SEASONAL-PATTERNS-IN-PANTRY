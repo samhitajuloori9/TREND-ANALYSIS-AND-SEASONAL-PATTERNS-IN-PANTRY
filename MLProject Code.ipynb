{
 "cells": [
  {
   "cell_type": "markdown",
   "metadata": {
    "id": "8IUulKCiZO4O"
   },
   "source": [
    "Importing basic packages"
   ]
  },
  {
   "cell_type": "code",
   "execution_count": 1,
   "metadata": {
    "colab": {
     "base_uri": "https://localhost:8080/"
    },
    "id": "0Mmzw1B4XuQR",
    "outputId": "873d6e47-908e-41cc-f0d2-d53e99d7237f"
   },
   "outputs": [],
   "source": [
    "import numpy as np\n",
    "import pandas as pd\n",
    "import warnings"
   ]
  },
  {
   "cell_type": "markdown",
   "metadata": {
    "id": "HkPwKDy_i9CK"
   },
   "source": [
    "Data loading and preprocessing"
   ]
  },
  {
   "cell_type": "code",
   "execution_count": 2,
   "metadata": {
    "colab": {
     "base_uri": "https://localhost:8080/",
     "height": 129
    },
    "id": "SqodSViFmyeP",
    "outputId": "c26c654d-3481-4b83-8227-2b52607dca5d"
   },
   "outputs": [
    {
     "ename": "ModuleNotFoundError",
     "evalue": "No module named 'google'",
     "output_type": "error",
     "traceback": [
      "\u001b[0;31m---------------------------------------------------------------------------\u001b[0m",
      "\u001b[0;31mModuleNotFoundError\u001b[0m                       Traceback (most recent call last)",
      "Cell \u001b[0;32mIn[2], line 1\u001b[0m\n\u001b[0;32m----> 1\u001b[0m \u001b[38;5;28;01mfrom\u001b[39;00m \u001b[38;5;21;01mgoogle\u001b[39;00m\u001b[38;5;21;01m.\u001b[39;00m\u001b[38;5;21;01mcolab\u001b[39;00m \u001b[38;5;28;01mimport\u001b[39;00m files\n\u001b[1;32m      2\u001b[0m uploaded \u001b[38;5;241m=\u001b[39m files\u001b[38;5;241m.\u001b[39mupload()\n",
      "\u001b[0;31mModuleNotFoundError\u001b[0m: No module named 'google'"
     ]
    }
   ],
   "source": [
    "from google.colab import files\n",
    "uploaded = files.upload()"
   ]
  },
  {
   "cell_type": "code",
   "execution_count": null,
   "metadata": {
    "colab": {
     "base_uri": "https://localhost:8080/",
     "height": 479
    },
    "id": "HZvpRQfJ5Ojf",
    "outputId": "1084c359-e2db-481c-d378-47bc7dcd8656"
   },
   "outputs": [],
   "source": [
    "groceries = pd.read_csv('Groceries_datasett.csv')\n",
    "groceries\n",
    "groc = groceries"
   ]
  },
  {
   "cell_type": "code",
   "execution_count": null,
   "metadata": {
    "colab": {
     "base_uri": "https://localhost:8080/"
    },
    "id": "RON10lM3y0Ny",
    "outputId": "6f93a75f-5e6d-40c8-f297-7022a2d010b9"
   },
   "outputs": [],
   "source": [
    "groc.shape\n",
    "groc.info()"
   ]
  },
  {
   "cell_type": "code",
   "execution_count": null,
   "metadata": {
    "colab": {
     "base_uri": "https://localhost:8080/",
     "height": 479
    },
    "id": "kEVH4l9o046G",
    "outputId": "c188c91f-0aaa-4dd8-ea65-0008feaf7032"
   },
   "outputs": [],
   "source": [
    "groc['itemDescription']=groc['itemDescription'].str.strip()\n",
    "groc"
   ]
  },
  {
   "cell_type": "code",
   "execution_count": null,
   "metadata": {
    "colab": {
     "base_uri": "https://localhost:8080/",
     "height": 479
    },
    "id": "03An3OdbI7Up",
    "outputId": "b77d868f-b1f4-4698-943c-141496e6019e"
   },
   "outputs": [],
   "source": [
    "groc['Date']=pd.to_datetime(groc['Date'])\n",
    "groc['day_of_week'] = groc['Date'].dt.dayofweek\n",
    "groc['day_of_week_name'] = groc['Date'].dt.day_name()\n",
    "groc"
   ]
  },
  {
   "cell_type": "code",
   "execution_count": null,
   "metadata": {
    "colab": {
     "base_uri": "https://localhost:8080/",
     "height": 325
    },
    "id": "gFiWU6u_OYtS",
    "outputId": "34a8cb75-a0c3-4e73-eec7-ea3d0274f2b3"
   },
   "outputs": [],
   "source": [
    "# This line should be applied to the DataFrame which needs the 'Quantity' column.\n",
    "# If it's 'groc', then it should be groc['Quantity'] = 1\n",
    "groc['Quantity'] = 1\n",
    "\n",
    "# Group by 'day_of_week_name' and sum the 'Quantity' column\n",
    "df_tot = groc.groupby(['day_of_week_name'])[\"Quantity\"].sum()\n",
    "\n",
    "# Convert the resulting Series to a DataFrame\n",
    "df_total = pd.DataFrame(df_tot).reset_index().sort_values(by='Quantity', ascending=False)\n",
    "\n",
    "# Display the first few rows\n",
    "df_total\n"
   ]
  },
  {
   "cell_type": "code",
   "execution_count": null,
   "metadata": {
    "colab": {
     "base_uri": "https://localhost:8080/",
     "height": 598
    },
    "id": "EzV0zhGu1sMb",
    "outputId": "cb36ca2b-24e0-447a-cda3-aca940ad3e57"
   },
   "outputs": [],
   "source": [
    "#top 25 products sold\n",
    "import matplotlib.pyplot as plt\n",
    "#import seaborn as sns\n",
    "import plotly.express as px\n",
    "top_25=groc.itemDescription.value_counts().sort_values(ascending=False)[0:25]\n",
    "fig = px.bar(top_25,color=top_25.index, labels={'value':'Quantity Sold','index':'GroceryItems'})\n",
    "fig.update_layout(showlegend=False, title_text='Top 25 Groceries Sold',title_x=0.5, title={'font':{'size':20}})\n",
    "fig.show()"
   ]
  },
  {
   "cell_type": "code",
   "execution_count": null,
   "metadata": {
    "colab": {
     "base_uri": "https://localhost:8080/",
     "height": 633
    },
    "id": "taI-zljj4aKS",
    "outputId": "f902c238-72f8-41d5-dc31-2d97d4978587"
   },
   "outputs": [],
   "source": [
    "#bottom 25 products sold\n",
    "bot_25=groc.itemDescription.value_counts().sort_values(ascending=False)[-25:]\n",
    "fig = px.bar(bot_25,color=bot_25.index, labels={'value':'Quantity Sold','index':'GroceryItems'})\n",
    "fig.update_layout(showlegend=False, title_text='Bottom 25 Groceries Sold',title_x=0.5, title={'font':{'size':20}})\n",
    "fig.show()"
   ]
  },
  {
   "cell_type": "code",
   "execution_count": null,
   "metadata": {
    "colab": {
     "base_uri": "https://localhost:8080/",
     "height": 633
    },
    "id": "8PySL_9k4LqX",
    "outputId": "41ccac57-9e59-4a2a-cf91-72b80221b626"
   },
   "outputs": [],
   "source": [
    "#frequency of items sold\n",
    "item_freq = groc.groupby(pd.Grouper(key='itemDescription')).size().reset_index(name='count')\n",
    "fig = px.treemap(item_freq, path=['itemDescription'], values='count')\n",
    "fig.update_layout(title_text='Frequency of the Groceries used', title_x=0.5, title_font=dict(size=18))\n",
    "fig.update_traces(textinfo=\"label+value\")\n",
    "fig.show()"
   ]
  },
  {
   "cell_type": "code",
   "execution_count": null,
   "metadata": {
    "colab": {
     "base_uri": "https://localhost:8080/",
     "height": 767
    },
    "id": "XOoBbKS4a7yG",
    "outputId": "745ae558-82c5-4942-e4f5-ecf9d45c20a8"
   },
   "outputs": [],
   "source": [
    "#top 25 customers visiting across the dataset\n",
    "top_25c = groc.groupby('Member_number').agg(PurchaseQuantity=('itemDescription','count')).sort_values(by='PurchaseQuantity',ascending=False)[0:25]\n",
    "top_25c.plot(kind='bar', figsize=(15,7), legend=None)\n",
    "plt.title('Top 25 customers', fontsize=20)\n",
    "plt.xlabel('Customer Number', fontsize=15)\n",
    "plt.ylabel('Purchase Quantity', fontsize=15)\n",
    "plt.show()"
   ]
  },
  {
   "cell_type": "code",
   "execution_count": null,
   "metadata": {
    "colab": {
     "base_uri": "https://localhost:8080/",
     "height": 216
    },
    "id": "wiONbJWv-fAt",
    "outputId": "7d82d653-94b4-42da-f638-053e850d6987"
   },
   "outputs": [],
   "source": [
    "# Implementation of FP Algorithm\n",
    "import pandas as pd\n",
    "from mlxtend.preprocessing import TransactionEncoder\n",
    "from mlxtend.frequent_patterns import fpgrowth, association_rules\n",
    "\n",
    "# Load your dataset\n",
    "# For this example, let's assume 'groceries_dataset' is a list of lists,\n",
    "# where each inner list is a transaction.\n",
    "# Example: groceries_dataset = [['milk', 'bread'], ['bread', 'butter'], ...]\n",
    "\n",
    "# Convert dataset to the right format\n",
    "te = TransactionEncoder()\n",
    "te_ary = te.fit(groc).transform(groc)\n",
    "df = pd.DataFrame(te_ary, columns=te.columns_)\n",
    "\n",
    "# Apply the FP-Growth algorithm\n",
    "frequent_itemsets = fpgrowth(df, min_support=0.05, use_colnames=True)\n",
    "\n",
    "# Generate Association Rules\n",
    "rules = association_rules(frequent_itemsets, metric=\"confidence\", min_threshold=0.7)\n",
    "\n",
    "# Display the rules\n",
    "print(rules)"
   ]
  },
  {
   "cell_type": "code",
   "execution_count": null,
   "metadata": {
    "colab": {
     "base_uri": "https://localhost:8080/",
     "height": 581
    },
    "id": "yZSMbYUh4bXw",
    "outputId": "d4f574ef-bbb6-4c9e-a0b2-f9e3c371f1e3"
   },
   "outputs": [],
   "source": [
    "baskets=groc.groupby(['Member_number','itemDescription'])['itemDescription'].count().unstack()\n",
    "baskets"
   ]
  },
  {
   "cell_type": "code",
   "execution_count": null,
   "metadata": {
    "colab": {
     "base_uri": "https://localhost:8080/"
    },
    "id": "cxHhEibwWM5v",
    "outputId": "08b77e3d-98f2-4c30-daee-cca94936dd1d"
   },
   "outputs": [],
   "source": [
    "#checking for not null values\n",
    "baskets.notnull().sum()"
   ]
  },
  {
   "cell_type": "code",
   "execution_count": null,
   "metadata": {
    "colab": {
     "base_uri": "https://localhost:8080/",
     "height": 362
    },
    "id": "HCPIqn4tbJuU",
    "outputId": "141dbaa8-f187-463f-d605-683c15b2ab46"
   },
   "outputs": [],
   "source": [
    "baskets=baskets.fillna(0).reset_index()\n",
    "baskets.head()"
   ]
  },
  {
   "cell_type": "code",
   "execution_count": null,
   "metadata": {
    "colab": {
     "base_uri": "https://localhost:8080/"
    },
    "id": "6EMc-qR1gOyX",
    "outputId": "d2fa01f8-8684-4c77-a3fd-f5c17b5139ee"
   },
   "outputs": [],
   "source": [
    "def convert_values(value):\n",
    "    if value <= 0:\n",
    "        return 0\n",
    "    elif value >=1:\n",
    "        return 1"
   ]
  },
  {
   "cell_type": "code",
   "execution_count": null,
   "metadata": {
    "colab": {
     "base_uri": "https://localhost:8080/",
     "height": 362
    },
    "id": "uv4GgMD3gQ1T",
    "outputId": "8ccced85-9814-42bc-e2e6-e1a1a45b3b47"
   },
   "outputs": [],
   "source": [
    "baskets = baskets.iloc[:, 1:baskets.shape[1]].applymap(convert_values)\n",
    "baskets.head()"
   ]
  },
  {
   "cell_type": "code",
   "execution_count": null,
   "metadata": {
    "colab": {
     "base_uri": "https://localhost:8080/"
    },
    "id": "dp6LSQXU3aJg",
    "outputId": "9daaad32-46e6-42fd-c0fd-fa4bf132103e"
   },
   "outputs": [],
   "source": [
    "from mlxtend.frequent_patterns import apriori\n",
    "from mlxtend.preprocessing import TransactionEncoder\n",
    "from mlxtend.frequent_patterns import association_rules"
   ]
  },
  {
   "cell_type": "code",
   "execution_count": null,
   "metadata": {
    "colab": {
     "base_uri": "https://localhost:8080/"
    },
    "id": "UaHub_wZZfTJ",
    "outputId": "fc012da9-c234-4866-f223-e221b6e5437b"
   },
   "outputs": [],
   "source": [
    "df_new = pd.DataFrame(baskets)"
   ]
  },
  {
   "cell_type": "code",
   "execution_count": null,
   "metadata": {
    "colab": {
     "base_uri": "https://localhost:8080/",
     "height": 526
    },
    "id": "TCRxIOTVfcmZ",
    "outputId": "7cacb64d-b2b7-4f43-aef9-8691fab65662"
   },
   "outputs": [],
   "source": [
    "#the itemsets for which the support is greater or equal to 0.05\n",
    "freq_items = apriori(df_new, min_support=0.05, use_colnames=True, max_len=3).sort_values(by='support')\n",
    "freq_items.head(10)"
   ]
  },
  {
   "cell_type": "code",
   "execution_count": null,
   "metadata": {
    "colab": {
     "base_uri": "https://localhost:8080/",
     "height": 298
    },
    "id": "5i-EILTQgpR3",
    "outputId": "b1a5d7c4-2ddd-4a23-9200-acd9d86f9eac"
   },
   "outputs": [],
   "source": [
    "rules=association_rules(freq_items, metric=\"lift\", min_threshold=1).sort_values('lift',ascending=False)\n",
    "rules=rules[['antecedents','consequents','support','confidence','lift']]\n",
    "rules.head()"
   ]
  },
  {
   "cell_type": "code",
   "execution_count": null,
   "metadata": {
    "colab": {
     "base_uri": "https://localhost:8080/"
    },
    "id": "fIrRa3JUg0cp",
    "outputId": "cf3a3cd2-707f-4bf4-f439-ba6de026cdf9"
   },
   "outputs": [],
   "source": [
    "import seaborn as sns\n",
    "#convert antecedents and consequents into strings\n",
    "rules['antecedents']=rules['antecedents'].apply(lambda a: ','.join(list(a)))\n",
    "rules['consequents']=rules['consequents'].apply(lambda a: ','.join(list(a)))\n",
    "print(rules[['antecedents','consequents']])"
   ]
  },
  {
   "cell_type": "code",
   "execution_count": null,
   "metadata": {
    "colab": {
     "base_uri": "https://localhost:8080/"
    },
    "id": "zt720DEg-aHh",
    "outputId": "e98080b3-8a6c-42cb-caf0-6c8e9265ff34"
   },
   "outputs": [],
   "source": [
    "groc['Month'] = groc.Date.dt.month\n",
    "groc['Month'] = groc['Date'].apply(lambda x:x.month)"
   ]
  },
  {
   "cell_type": "code",
   "execution_count": null,
   "metadata": {
    "colab": {
     "base_uri": "https://localhost:8080/",
     "height": 515
    },
    "id": "38KnU8N_VsUZ",
    "outputId": "fedfc652-24ef-410a-9be0-9999974276fa"
   },
   "outputs": [],
   "source": [
    "#Season : 1=fall 2=Summer 3=Winter\n",
    "#mapping months to seasons\n",
    "month_to_season = {1: 3, 2: 3, 3: 3, 4: 2, 5: 2, 6: 2, 7: 2, 8: 1, 9: 1, 10: 1, 11: 3, 12: 3}\n",
    "groc['season']=groc['Month'].map(month_to_season)\n",
    "groc"
   ]
  },
  {
   "cell_type": "code",
   "execution_count": null,
   "metadata": {
    "colab": {
     "base_uri": "https://localhost:8080/"
    },
    "id": "AfbMkqFxVARG",
    "outputId": "3b5aa67b-87ec-4f1e-a754-12fe7d4bcb52"
   },
   "outputs": [],
   "source": [
    "def seasonwise(x):\n",
    "    groc_n=groc[groc['itemDescription']==x].groupby('season').count()\n",
    "    print(groc_n)\n",
    "seasonwise('mango')"
   ]
  },
  {
   "cell_type": "code",
   "execution_count": null,
   "metadata": {
    "colab": {
     "base_uri": "https://localhost:8080/",
     "height": 515
    },
    "id": "oKPJwLVVZuvO",
    "outputId": "fb33e2f0-b89e-491f-b57d-fe18a88897ca"
   },
   "outputs": [],
   "source": [
    "#number of each item bought in total\n",
    "groc_quantity = groc.groupby(['itemDescription','season'])['Quantity'].count()\n",
    "groc_quantity = groc_quantity.reset_index()\n",
    "groc_quantity = groc_quantity.sort_values(by=['Quantity','itemDescription'],ascending=False)\n",
    "groc_quantity= groc_quantity.reset_index()\n",
    "groc_quantity"
   ]
  },
  {
   "cell_type": "code",
   "execution_count": null,
   "metadata": {
    "colab": {
     "base_uri": "https://localhost:8080/",
     "height": 515
    },
    "id": "pL3mpDreatpq",
    "outputId": "85c58fde-6802-4889-e933-bd82e63dd53a"
   },
   "outputs": [],
   "source": [
    "groc_winter=groc_quantity[groc_quantity['season']==3]\n",
    "groc_winter"
   ]
  },
  {
   "cell_type": "code",
   "execution_count": null,
   "metadata": {
    "colab": {
     "base_uri": "https://localhost:8080/",
     "height": 874
    },
    "id": "Spy1Af8nZhWA",
    "outputId": "5bfce8d7-6876-4033-b032-3bf66c0f9f81"
   },
   "outputs": [],
   "source": [
    "grouped_data = groc_winter.groupby('itemDescription')['Quantity'].sum().reset_index()\n",
    "\n",
    "# Sort the grouped data by 'Quantity' in descending order and take the top 25\n",
    "top_25_winter = grouped_data.sort_values(by='Quantity', ascending=False).head(25)\n",
    "\n",
    "plt.figure(figsize=(15, 7))\n",
    "plt.bar(top_25_winter['itemDescription'], top_25_winter['Quantity'])\n",
    "plt.xlabel('GroceriesItems')\n",
    "plt.ylabel('QuantitySold')\n",
    "plt.title('Top 25 Groceries Sold in Winter')\n",
    "plt.xticks(rotation=90)  # Rotate labels by 90 degrees\n",
    "\n",
    "# Show the graph\n",
    "plt.show()"
   ]
  },
  {
   "cell_type": "code",
   "execution_count": null,
   "metadata": {
    "colab": {
     "base_uri": "https://localhost:8080/",
     "height": 360
    },
    "id": "HB9B1CTMoohW",
    "outputId": "8a534b3d-ce29-4ff7-8be3-11b7b676f517"
   },
   "outputs": [],
   "source": [
    "groc_winter=groc[groc['season']==3]\n",
    "# Group by 'day_of_week_name' and sum the 'Quantity' column\n",
    "df_tot = groc_winter.groupby(['day_of_week_name'])['Quantity'].sum()\n",
    "\n",
    "# Convert the resulting Series to a DataFrame\n",
    "df_total = pd.DataFrame(df_tot).reset_index()\n",
    "df_total=df_total.sort_values(by='Quantity', ascending=False)\n",
    "df_total"
   ]
  },
  {
   "cell_type": "markdown",
   "metadata": {
    "id": "cEo1CFcFimxM"
   },
   "source": []
  },
  {
   "cell_type": "code",
   "execution_count": null,
   "metadata": {
    "colab": {
     "base_uri": "https://localhost:8080/",
     "height": 581
    },
    "id": "9hvZzxNUinP0",
    "outputId": "98cc9e7f-84df-4b01-fcc9-66ce455129fc"
   },
   "outputs": [],
   "source": [
    "baskets=groc_winter.groupby(['Member_number','itemDescription'])['itemDescription'].count().unstack()\n",
    "baskets"
   ]
  },
  {
   "cell_type": "code",
   "execution_count": null,
   "metadata": {
    "colab": {
     "base_uri": "https://localhost:8080/",
     "height": 362
    },
    "id": "FOJD1HBullge",
    "outputId": "f12b5afb-1386-42a4-dfd2-0431e659ad7c"
   },
   "outputs": [],
   "source": [
    "#checking for not null values\n",
    "baskets.notnull().sum()\n",
    "baskets=baskets.fillna(0).reset_index()\n",
    "baskets.head()"
   ]
  },
  {
   "cell_type": "code",
   "execution_count": null,
   "metadata": {
    "colab": {
     "base_uri": "https://localhost:8080/",
     "height": 362
    },
    "id": "oI4KsIFhlN8_",
    "outputId": "e137737f-2a2a-4bc5-8236-b9ee5fd157a3"
   },
   "outputs": [],
   "source": [
    "def convert_values(value):\n",
    "    if value <= 0:\n",
    "        return 0\n",
    "    elif value >=1:\n",
    "        return 1\n",
    "baskets = baskets.iloc[:, 1:baskets.shape[1]].applymap(convert_values)\n",
    "baskets.head()"
   ]
  },
  {
   "cell_type": "code",
   "execution_count": null,
   "metadata": {
    "colab": {
     "base_uri": "https://localhost:8080/",
     "height": 526
    },
    "id": "11QgqVCtj_OL",
    "outputId": "08af281e-eb2f-4f0f-d42e-b9277eee0fdd"
   },
   "outputs": [],
   "source": [
    "from mlxtend.frequent_patterns import apriori\n",
    "from mlxtend.preprocessing import TransactionEncoder\n",
    "from mlxtend.frequent_patterns import association_rules\n",
    "df_new = pd.DataFrame(baskets)\n",
    "freq_items = apriori(df_new, min_support=0.05, use_colnames=True, max_len=3).sort_values(by='support')\n",
    "freq_items.head(10)"
   ]
  },
  {
   "cell_type": "code",
   "execution_count": null,
   "metadata": {
    "colab": {
     "base_uri": "https://localhost:8080/",
     "height": 298
    },
    "id": "WVKqpmkz91iX",
    "outputId": "dce2509d-f8af-43cc-afad-d816958f7a2e"
   },
   "outputs": [],
   "source": [
    "rules=association_rules(freq_items, metric=\"lift\", min_threshold=1).sort_values('support',ascending=False)\n",
    "rules=rules[['antecedents','consequents','support','confidence','lift']]\n",
    "rules.head()"
   ]
  },
  {
   "cell_type": "code",
   "execution_count": null,
   "metadata": {
    "colab": {
     "base_uri": "https://localhost:8080/"
    },
    "id": "qKX161kQkPdx",
    "outputId": "5f57a07d-e4d7-402a-96ee-dd57ff3166c6"
   },
   "outputs": [],
   "source": [
    "#creating association rules for indicating antecedents and consequent items\n",
    "rules=association_rules(freq_items, metric=\"lift\", min_threshold=1).sort_values('lift',ascending=False)\n",
    "rules=rules[['antecedents','consequents','support','confidence','lift']]\n",
    "rules.head()\n",
    "import seaborn as sns\n",
    "#convert antecedents and consequents into strings\n",
    "rules['antecedents']=rules['antecedents'].apply(lambda a: ','.join(list(a)))\n",
    "rules['consequents']=rules['consequents'].apply(lambda a: ','.join(list(a)))\n",
    "print(rules[['antecedents','consequents']])"
   ]
  },
  {
   "cell_type": "code",
   "execution_count": null,
   "metadata": {
    "colab": {
     "base_uri": "https://localhost:8080/",
     "height": 515
    },
    "id": "SmhnCvyycCF1",
    "outputId": "a5804863-eda3-4423-bd02-982434538dc5"
   },
   "outputs": [],
   "source": [
    "groc_fall=groc_quantity[groc_quantity['season']==1]\n",
    "groc_fall"
   ]
  },
  {
   "cell_type": "code",
   "execution_count": null,
   "metadata": {
    "colab": {
     "base_uri": "https://localhost:8080/",
     "height": 874
    },
    "id": "YmPQual_cqjw",
    "outputId": "3d8ea207-a251-4fb0-9a93-edee30285f8a"
   },
   "outputs": [],
   "source": [
    "grouped_data = groc_fall.groupby('itemDescription')['Quantity'].sum().reset_index()\n",
    "\n",
    "# Sort the grouped data by 'Quantity' in descending order and take the top 25\n",
    "top_25_fall = grouped_data.sort_values(by='Quantity', ascending=False).head(25)\n",
    "\n",
    "plt.figure(figsize=(15, 7))\n",
    "plt.bar(top_25_fall['itemDescription'], top_25_fall['Quantity'])\n",
    "plt.xlabel('GroceriesItems')\n",
    "plt.ylabel('QuantitySold')\n",
    "plt.title('Top 25 Groceries Sold in Fall')\n",
    "plt.xticks(rotation=90)  # Rotate labels by 90 degrees\n",
    "\n",
    "# Show the graph\n",
    "plt.show()"
   ]
  },
  {
   "cell_type": "code",
   "execution_count": null,
   "metadata": {
    "colab": {
     "base_uri": "https://localhost:8080/",
     "height": 360
    },
    "id": "N5j-BuAwox35",
    "outputId": "149c2636-2012-4b76-b7b7-8a15a202f0bb"
   },
   "outputs": [],
   "source": [
    "groc_fall=groc[groc['season']==1]\n",
    "# Group by 'day_of_week_name' and sum the 'Quantity' column\n",
    "df_tot = groc_fall.groupby(['day_of_week_name'])['Quantity'].sum()\n",
    "\n",
    "# Convert the resulting Series to a DataFrame\n",
    "df_total = pd.DataFrame(df_tot).reset_index()\n",
    "df_total=df_total.sort_values(by='Quantity', ascending= False)\n",
    "df_total"
   ]
  },
  {
   "cell_type": "code",
   "execution_count": null,
   "metadata": {
    "colab": {
     "base_uri": "https://localhost:8080/",
     "height": 581
    },
    "id": "jf67Dn5Zjc2P",
    "outputId": "5877c37c-27e3-44c5-8e80-5dab20e1a1ac"
   },
   "outputs": [],
   "source": [
    "baskets=groc_fall.groupby(['Member_number','itemDescription'])['itemDescription'].count().unstack()\n",
    "baskets"
   ]
  },
  {
   "cell_type": "code",
   "execution_count": null,
   "metadata": {
    "colab": {
     "base_uri": "https://localhost:8080/",
     "height": 362
    },
    "id": "YjVa08YajiqW",
    "outputId": "a798a1ed-c48c-4606-ad1a-f28b69a90ac6"
   },
   "outputs": [],
   "source": [
    "#checking for not null values\n",
    "baskets.notnull().sum()\n",
    "baskets=baskets.fillna(0).reset_index()\n",
    "baskets.head()"
   ]
  },
  {
   "cell_type": "code",
   "execution_count": null,
   "metadata": {
    "colab": {
     "base_uri": "https://localhost:8080/",
     "height": 362
    },
    "id": "74POe-6zjprq",
    "outputId": "a3c9f82b-cfbe-4a3b-e5fa-fa6a9cbf4a85"
   },
   "outputs": [],
   "source": [
    "def convert_values(value):\n",
    "    if value <= 0:\n",
    "        return 0\n",
    "    elif value >=1:\n",
    "        return 1\n",
    "baskets = baskets.iloc[:, 1:baskets.shape[1]].applymap(convert_values)\n",
    "baskets.head()"
   ]
  },
  {
   "cell_type": "code",
   "execution_count": null,
   "metadata": {
    "colab": {
     "base_uri": "https://localhost:8080/",
     "height": 526
    },
    "id": "No-9I4t3ju33",
    "outputId": "8236459b-c370-4f69-9eae-9b9c54cf23ce"
   },
   "outputs": [],
   "source": [
    "from mlxtend.frequent_patterns import apriori\n",
    "from mlxtend.preprocessing import TransactionEncoder\n",
    "from mlxtend.frequent_patterns import association_rules\n",
    "df_new = pd.DataFrame(baskets)\n",
    "freq_items = apriori(df_new, min_support=0.03, use_colnames=True, max_len=3).sort_values(by='support')\n",
    "freq_items.head(10)"
   ]
  },
  {
   "cell_type": "code",
   "execution_count": null,
   "metadata": {
    "colab": {
     "base_uri": "https://localhost:8080/",
     "height": 298
    },
    "id": "Hy7PgX4_j0we",
    "outputId": "0e799daf-0915-423c-abdd-96ecb22b1745"
   },
   "outputs": [],
   "source": [
    "rules=association_rules(freq_items, metric=\"lift\", min_threshold=1).sort_values('support',ascending=False)\n",
    "rules=rules[['antecedents','consequents','support','confidence','lift']]\n",
    "rules.head()"
   ]
  },
  {
   "cell_type": "code",
   "execution_count": null,
   "metadata": {
    "colab": {
     "base_uri": "https://localhost:8080/",
     "height": 515
    },
    "id": "Zep9RFKhb_1U",
    "outputId": "a9c1413f-e1c6-4975-b40c-9a427da1eff2"
   },
   "outputs": [],
   "source": [
    "groc_summer=groc_quantity[groc_quantity['season']==2]\n",
    "groc_summer"
   ]
  },
  {
   "cell_type": "code",
   "execution_count": null,
   "metadata": {
    "colab": {
     "base_uri": "https://localhost:8080/",
     "height": 874
    },
    "id": "sUDBos4EfWfz",
    "outputId": "cffdaa5e-04ca-4393-8599-d6b15dfc57e6"
   },
   "outputs": [],
   "source": [
    "grouped_data = groc_summer.groupby('itemDescription')['Quantity'].sum().reset_index()\n",
    "\n",
    "# Sort the grouped data by 'Quantity' in descending order and take the top 25\n",
    "top_25_summer = grouped_data.sort_values(by='Quantity', ascending=False).head(25)\n",
    "\n",
    "plt.figure(figsize=(15, 7))\n",
    "plt.bar(top_25_summer['itemDescription'], top_25_summer['Quantity'])\n",
    "plt.xlabel('GroceriesItems')\n",
    "plt.ylabel('QuantitySold')\n",
    "plt.title('Top 25 Groceries Sold in Summer')\n",
    "plt.xticks(rotation=90)  # Rotate labels by 90 degrees\n",
    "\n",
    "# Show the graph\n",
    "plt.show()"
   ]
  },
  {
   "cell_type": "code",
   "execution_count": null,
   "metadata": {
    "colab": {
     "base_uri": "https://localhost:8080/",
     "height": 360
    },
    "id": "MzUUMn3no1i1",
    "outputId": "a3b50b53-b577-4d7f-ef4d-48d5dc19fd4d"
   },
   "outputs": [],
   "source": [
    "groc_summer=groc[groc['season']==2]\n",
    "# Group by 'day_of_week_name' and sum the 'Quantity' column\n",
    "df_tot = groc_summer.groupby(['day_of_week_name'])['Quantity'].sum()\n",
    "\n",
    "# Convert the resulting Series to a DataFrame\n",
    "df_total = pd.DataFrame(df_tot).reset_index()\n",
    "df_total=df_total.sort_values(by='Quantity', ascending=False)\n",
    "df_total"
   ]
  },
  {
   "cell_type": "code",
   "execution_count": null,
   "metadata": {
    "colab": {
     "base_uri": "https://localhost:8080/",
     "height": 581
    },
    "id": "onU7fvXINF53",
    "outputId": "4f2f7570-8251-4e6b-b5c9-c0ff5b04bdb1"
   },
   "outputs": [],
   "source": [
    "baskets=groc_summer.groupby(['Member_number','itemDescription'])['itemDescription'].count().unstack()\n",
    "baskets"
   ]
  },
  {
   "cell_type": "code",
   "execution_count": null,
   "metadata": {
    "colab": {
     "base_uri": "https://localhost:8080/",
     "height": 362
    },
    "id": "HLIijjkyim8R",
    "outputId": "a3ecd440-74b0-4c68-dd06-34b91af6cdfd"
   },
   "outputs": [],
   "source": [
    "#checking for not null values\n",
    "baskets.notnull().sum()\n",
    "baskets=baskets.fillna(0).reset_index()\n",
    "baskets.head()"
   ]
  },
  {
   "cell_type": "code",
   "execution_count": null,
   "metadata": {
    "colab": {
     "base_uri": "https://localhost:8080/",
     "height": 362
    },
    "id": "ns4qBTQIixam",
    "outputId": "5d1007a9-e42c-4a5b-d1a7-9f8d47168591"
   },
   "outputs": [],
   "source": [
    "def convert_values(value):\n",
    "    if value <= 0:\n",
    "        return 0\n",
    "    elif value >=1:\n",
    "        return 1\n",
    "baskets = baskets.iloc[:, 1:baskets.shape[1]].applymap(convert_values)\n",
    "baskets.head()"
   ]
  },
  {
   "cell_type": "code",
   "execution_count": null,
   "metadata": {
    "colab": {
     "base_uri": "https://localhost:8080/",
     "height": 526
    },
    "id": "4cCDKMOYi3vn",
    "outputId": "4e432dea-6dde-44bc-de64-7a5199d427ed"
   },
   "outputs": [],
   "source": [
    "from mlxtend.frequent_patterns import apriori\n",
    "from mlxtend.preprocessing import TransactionEncoder\n",
    "from mlxtend.frequent_patterns import association_rules\n",
    "df_new = pd.DataFrame(baskets)\n",
    "freq_items = apriori(df_new, min_support=0.05, use_colnames=True, max_len=3).sort_values(by='support')\n",
    "freq_items.head(10)"
   ]
  },
  {
   "cell_type": "code",
   "execution_count": null,
   "metadata": {
    "colab": {
     "base_uri": "https://localhost:8080/",
     "height": 298
    },
    "id": "x2MOYWWCi8t-",
    "outputId": "575f8f71-f63e-4bc8-ab54-0ae4ab7c2cf9"
   },
   "outputs": [],
   "source": [
    "rules=association_rules(freq_items, metric=\"lift\", min_threshold=1).sort_values('support',ascending=False)\n",
    "rules=rules[['antecedents','consequents','support','confidence','lift']]\n",
    "rules.head()"
   ]
  }
 ],
 "metadata": {
  "colab": {
   "provenance": []
  },
  "kernelspec": {
   "display_name": "Python 3 (ipykernel)",
   "language": "python",
   "name": "python3"
  },
  "language_info": {
   "codemirror_mode": {
    "name": "ipython",
    "version": 3
   },
   "file_extension": ".py",
   "mimetype": "text/x-python",
   "name": "python",
   "nbconvert_exporter": "python",
   "pygments_lexer": "ipython3",
   "version": "3.12.0"
  }
 },
 "nbformat": 4,
 "nbformat_minor": 4
}
